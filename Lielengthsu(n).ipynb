{
 "cells": [
  {
   "cell_type": "code",
   "execution_count": 1,
   "metadata": {},
   "outputs": [],
   "source": [
    "import numpy as np"
   ]
  },
  {
   "cell_type": "code",
   "execution_count": 2,
   "metadata": {},
   "outputs": [],
   "source": [
    "from numpy.linalg import matrix_rank"
   ]
  },
  {
   "cell_type": "code",
   "execution_count": 3,
   "metadata": {},
   "outputs": [],
   "source": [
    "import matplotlib.pyplot as plt"
   ]
  },
  {
   "cell_type": "code",
   "execution_count": 4,
   "metadata": {},
   "outputs": [],
   "source": [
    "def commute(A,B):\n",
    "    return np.matmul(A,B)-np.matmul(B,A)"
   ]
  },
  {
   "cell_type": "code",
   "execution_count": 5,
   "metadata": {},
   "outputs": [],
   "source": [
    "def ordercomplexsu(A,B,m):\n",
    "    BASIS=np.zeros((np.power(m,2)+1,np.power(m,2)),dtype=complex)\n",
    "    BASIS[0]+=np.matrix.flatten(A)\n",
    "    BASIS[1]+=np.matrix.flatten(B)\n",
    "    j=2\n",
    "    BASIS[2]+=np.matrix.flatten(commute(A,B))\n",
    "    if matrix_rank(BASIS)>j:\n",
    "        j+=1\n",
    "    else: \n",
    "        return 0\n",
    "    l=np.zeros((np.power(m,2)), dtype=int)\n",
    "    l[0]=0\n",
    "    l[1]=2\n",
    "    l[2]=3\n",
    "    for d in range(3, np.power(m,2)):\n",
    "        for i in range(l[d-2], l[d-1]):\n",
    "            COM=np.matrix.flatten(commute(A,BASIS[i].reshape(m,m))) \n",
    "            BASIS[j]+=COM\n",
    "            if matrix_rank(BASIS)>j:\n",
    "                j+=1\n",
    "            else:\n",
    "                BASIS[j]-=COM\n",
    "            COM=np.matrix.flatten(commute(B,BASIS[i].reshape(m,m)))        \n",
    "            BASIS[j]+=COM\n",
    "            if matrix_rank(BASIS)>j:\n",
    "                j+=1\n",
    "            else:\n",
    "                BASIS[j]-=COM\n",
    "            if j>= np.power(m,2)-1:\n",
    "                return d\n",
    "        l[d]+=j\n",
    "    return 0"
   ]
  },
  {
   "cell_type": "code",
   "execution_count": 11,
   "metadata": {},
   "outputs": [
    {
     "data": {
      "image/png": "[encoded data removed]",
      "text/plain": [
       "<Figure size 432x288 with 1 Axes>"
      ]
     },
     "metadata": {
      "needs_background": "light"
     },
     "output_type": "display_data"
    }
   ],
   "source": [
    "v=range(2,21)\n",
    "d=np.zeros(19)\n",
    "for m in v:\n",
    "    A=np.random.rand(m,m)+np.random.rand(m,m)*1j\n",
    "    B=np.random.rand(m,m)+np.random.rand(m,m)*1j\n",
    "    A=(A-np.conj(np.transpose(A)))/2\n",
    "    B=(B-np.conj(np.transpose(B)))/2\n",
    "    A=A-np.trace(A)*np.eye(m)\n",
    "    B=B-np.trace(B)*np.eye(m)\n",
    "    d[m-2]=ordercomplexsu(A,B,m)\n",
    "plt.scatter(v,d) \n",
    "plt.xticks(v)\n",
    "plt.xlabel('Dimension of matrix')\n",
    "plt.ylabel('Length of Lie brackets required in su(n)')\n",
    "plt.savefig('sun.png')"
   ]
  },
  {
   "cell_type": "code",
   "execution_count": null,
   "metadata": {},
   "outputs": [],
   "source": []
  }
 ],
 "metadata": {
  "kernelspec": {
   "display_name": "Python 3",
   "language": "python",
   "name": "python3"
  },
  "language_info": {
   "codemirror_mode": {
    "name": "ipython",
    "version": 3
   },
   "file_extension": ".py",
   "mimetype": "text/x-python",
   "name": "python",
   "nbconvert_exporter": "python",
   "pygments_lexer": "ipython3",
   "version": "3.7.6"
  }
 },
 "nbformat": 4,
 "nbformat_minor": 4
}
